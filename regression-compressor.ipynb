{
 "cells": [
  {
   "cell_type": "markdown",
   "id": "7dc2b6e4",
   "metadata": {},
   "source": [
    "# The Final Compression Project – Compressão e Codificação de Dados\n",
    "\n",
    "```\n",
    "Štěpán Pešout\n",
    "Universidade de Évora\n",
    "15/01/2022\n",
    "```\n",
    "\n",
    "## Brief description\n",
    "\n",
    "This project works with images and combines lossy and lossless compression techniques.\n",
    "\n",
    "At first, the image is represented as a three-dimensional integer array, from which three two-dimensional arrays representing **each of the color layers are extracted**.\n",
    "\n",
    "Then, two coefficients and an intercept are obtained using **linear regression**, so that the color values of the blue layer can be computed using only the red and green color layers.\n",
    "\n",
    "In the red and green layers, **similar values are then represented by their median**. When iterating over the arrays, the **frequencies of occurrence** of each color shade in both layers are calculated.\n",
    "\n",
    "The 256 color shades, for which the frequencies of occurrence are therefore known, serve as the \"alphabet\" for the **Huffman tree construction**. This makes it possible to create a dictionary and the original data is translated into binary code, then into an array of bytes, then into characters and **stored in a file**. The necessary information needed for decompression (color frequencies, regression coefficients, etc.) is also stored.\n",
    "\n",
    "This work also includes a **decompression algorithm** that allows the image to be reconstructed. Clearly, due to the use of lossy compression techniques, the exact original image can no longer be restored."
   ]
  },
  {
   "cell_type": "markdown",
   "id": "e0522adc",
   "metadata": {},
   "source": [
    "## Imports"
   ]
  },
  {
   "cell_type": "code",
   "execution_count": 4,
   "id": "a2dc088a",
   "metadata": {},
   "outputs": [],
   "source": [
    "import PIL.Image as pimg\n",
    "import numpy as np\n",
    "import sklearn.linear_model as lm\n",
    "import statistics as st\n",
    "import pandas as pd"
   ]
  },
  {
   "cell_type": "markdown",
   "id": "edb1100e",
   "metadata": {},
   "source": [
    "## Function to create a image from the three separate layers\n",
    "- `red` – red color layer\n",
    "- `green` – green color layer\n",
    "- `blue` – blue color layer\n",
    "- `show` determines if is the image shown or just returned\n",
    "- function returns image data as PIL.Image"
   ]
  },
  {
   "cell_type": "code",
   "execution_count": 5,
   "id": "a6ce13fd",
   "metadata": {},
   "outputs": [],
   "source": [
    "def buildImage(red, green, blue, show = True):\n",
    "    \n",
    "    data = np.dstack((red, green, blue))\n",
    "    img = pimg.fromarray(np.uint8(np.array(data)))\n",
    "    \n",
    "    if (show):\n",
    "        img.show()\n",
    "        \n",
    "    return img"
   ]
  },
  {
   "cell_type": "markdown",
   "id": "5c0e612f",
   "metadata": {},
   "source": [
    "## Regression functions\n",
    "\n",
    "### Function to count regression coefficients\n",
    "\n",
    "- `color1` (independent) is usually the red layer\n",
    "- `color2` (independent) is usually the green layer\n",
    "- `dependent` is usually the blue layer\n",
    "- function returns two coefficients and an intercept for computing the dependent layer in the future"
   ]
  },
  {
   "cell_type": "code",
   "execution_count": 6,
   "id": "82ebb517",
   "metadata": {},
   "outputs": [],
   "source": [
    "def colorRegression (color1, color2, dependent):\n",
    "    \n",
    "    regr = lm.LinearRegression()\n",
    "    \n",
    "    independents = np.reshape(np.dstack(\n",
    "        (color1, color2)),\n",
    "        (len(color1) * len(color1[0]), 2\n",
    "    ))\n",
    "    regr.fit(independents, dependent.flatten())\n",
    "    \n",
    "    return [regr.coef_[0], regr.coef_[1], regr.intercept_]"
   ]
  },
  {
   "cell_type": "markdown",
   "id": "f14c658e",
   "metadata": {},
   "source": [
    "### Function to compute color values of a layer\n",
    "\n",
    "- `color1` – first color layer (usually the red one)\n",
    "- `color2` – second color layer )(usually the green one)\n",
    "- `color1_cf` is the coefficient for multiplying color1 values\n",
    "- `color2_cf` is the coefficient for multiplying color2 values\n",
    "- `intercept` is the value to add after the multiplication\n",
    "\n",
    "- function returns computed values for the third layer (usually blue)"
   ]
  },
  {
   "cell_type": "code",
   "execution_count": 7,
   "id": "0fcf6ad4",
   "metadata": {},
   "outputs": [],
   "source": [
    "def computeLayer(color1, color2, color1_cf, color2_cf, intercept):\n",
    "    \n",
    "    raw = color1 * color1_cf + color2 * color2_cf + intercept\n",
    "    \n",
    "    # Round float values and eliminate negatives\n",
    "    return np.clip(np.around(raw).astype(int), 0, 1000)"
   ]
  },
  {
   "cell_type": "markdown",
   "id": "b94ff334",
   "metadata": {},
   "source": [
    "## Function to replace similar values by their median\n",
    "\n",
    "- `layer` is the color layer\n",
    "- `max_error` is the value which determines maximal difference of the layer values to be considered as the same\n",
    "- `fill_number` is the value to be inserted between two medians\n",
    "- function returns the modificated layer and the frequencies of the color values"
   ]
  },
  {
   "cell_type": "code",
   "execution_count": 8,
   "id": "a5135e6b",
   "metadata": {},
   "outputs": [],
   "source": [
    "def medianize(layer, max_error, fill_number = None):\n",
    "    \n",
    "    error = 0\n",
    "    anchor = layer[0][0] # The first layer value\n",
    "    queue = []\n",
    "    layer_flat = layer.flatten()\n",
    "    layer_len = len(layer_flat)\n",
    "    result = [] * layer_len\n",
    "    frequencies = [0] * 256 # frequencies[x] is the frequency of x in the layer\n",
    "\n",
    "    for idx, i in enumerate(layer_flat):\n",
    "        error = abs(int(i) - int(anchor))\n",
    "\n",
    "        # If is the difference too big\n",
    "        if (error > max_error or idx == layer_len - 1): \n",
    "    \n",
    "            # True only for the last cycle run\n",
    "            if (idx == layer_len - 1): \n",
    "                queue.append(int(i))\n",
    "                \n",
    "            anchor = i \n",
    "            \n",
    "            # Median from the similar values\n",
    "            median = round(st.median(queue)) \n",
    "            \n",
    "            frequencies[median] += 1\n",
    "            result.append(median)\n",
    "            \n",
    "            # Fill the result layer\n",
    "            for m in range(len(queue) - 1):\n",
    "                \n",
    "                # Previously declared value or median\n",
    "                if (fill_number == None):\n",
    "                    \n",
    "                    result.append(median)\n",
    "                    frequencies[median] += 1\n",
    "                    \n",
    "                else:\n",
    "                    \n",
    "                    result.append(fill_number)\n",
    "                    frequencies[fill_number] += 1\n",
    "                \n",
    "            queue = []\n",
    "\n",
    "        queue.append(int(i))\n",
    "    \n",
    "    return [\n",
    "        # Layer as the original-shaped 2D array\n",
    "        np.uint8(np.array(result)).reshape(\n",
    "            len(layer),\n",
    "            len(layer[0])\n",
    "        ),\n",
    "        # Frequencies of the color values\n",
    "        np.array(frequencies)\n",
    "    ]"
   ]
  },
  {
   "cell_type": "markdown",
   "id": "5a9a9974",
   "metadata": {},
   "source": [
    "## Functions to handle Huffman tree nodes\n",
    "\n",
    "### Function to create the mode\n",
    "\n",
    "- every node is represented by a list\n",
    "- `left` and `right` are the child nodes\n",
    "- `number` is the alphabet symbol\n",
    "- `frequency` is the frequency of the number (symbol)"
   ]
  },
  {
   "cell_type": "code",
   "execution_count": 9,
   "id": "b731f328",
   "metadata": {},
   "outputs": [],
   "source": [
    "def createNode (left, right, number, frequency):\n",
    "    \n",
    "    return [left, right, number, frequency, \"\"]"
   ]
  },
  {
   "cell_type": "markdown",
   "id": "0e207e01",
   "metadata": {},
   "source": [
    "### Functions to get and set node properties"
   ]
  },
  {
   "cell_type": "code",
   "execution_count": 10,
   "id": "c2df83be",
   "metadata": {},
   "outputs": [],
   "source": [
    "def getLeft(node):\n",
    "    \n",
    "    return node[0]"
   ]
  },
  {
   "cell_type": "code",
   "execution_count": 11,
   "id": "e84e3a10",
   "metadata": {},
   "outputs": [],
   "source": [
    "def getRight(node):\n",
    "    \n",
    "    return node[1]"
   ]
  },
  {
   "cell_type": "code",
   "execution_count": 12,
   "id": "94192904",
   "metadata": {},
   "outputs": [],
   "source": [
    "def getNumber(node):\n",
    "    \n",
    "    return node[2]"
   ]
  },
  {
   "cell_type": "code",
   "execution_count": 13,
   "id": "864a1613",
   "metadata": {},
   "outputs": [],
   "source": [
    "def getFrequency(node):\n",
    "    \n",
    "    return node[3]"
   ]
  },
  {
   "cell_type": "code",
   "execution_count": 14,
   "id": "52f9867e",
   "metadata": {},
   "outputs": [],
   "source": [
    "def getCode(node):\n",
    "    \n",
    "    return node[4]"
   ]
  },
  {
   "cell_type": "code",
   "execution_count": 15,
   "id": "14f86348",
   "metadata": {},
   "outputs": [],
   "source": [
    "def setCode(node, code):\n",
    "    \n",
    "    node[4] = code\n",
    "    return node"
   ]
  },
  {
   "cell_type": "markdown",
   "id": "329e43d8",
   "metadata": {},
   "source": [
    "### Function to create a list of nodes\n",
    "\n",
    "- this function creates and returns a list with nodes (it converts the numbers and frequencies into the tree nodes)\n",
    "- child nodes are not present yet\n",
    "- `frequencies` is the list of frequencies of numbers"
   ]
  },
  {
   "cell_type": "code",
   "execution_count": 16,
   "id": "fbe48700",
   "metadata": {},
   "outputs": [],
   "source": [
    "def createNodes(frequencies):\n",
    "    \n",
    "    nodes = []\n",
    "    \n",
    "    for f in range(len(frequencies)):\n",
    "        \n",
    "        # If the frequency is zero\n",
    "        if (frequencies[f] == 0):\n",
    "            continue\n",
    "            \n",
    "        nodes.append(createNode(None, None, f, frequencies[f]))\n",
    "    \n",
    "    return nodes"
   ]
  },
  {
   "cell_type": "markdown",
   "id": "9155512e",
   "metadata": {},
   "source": [
    "### Function to get two tree nodes with the least frequency (the least probability of observing)\n",
    "\n",
    "- `nodes` is the node array"
   ]
  },
  {
   "cell_type": "code",
   "execution_count": 17,
   "id": "c31fb0a0",
   "metadata": {},
   "outputs": [],
   "source": [
    "def getRarestNodes(nodes):\n",
    "    \n",
    "    # Sort nodes ascendingly by their frequency\n",
    "    nodes = sorted(nodes, key = lambda n: getFrequency(n))\n",
    "    \n",
    "    return [nodes[0], nodes[1]]"
   ]
  },
  {
   "cell_type": "markdown",
   "id": "fa6f937e",
   "metadata": {},
   "source": [
    "## Function to build the Huffman tree\n",
    "\n",
    "- this function creates the correct hierarchy (parent – children) of nodes according to the frequency\n",
    "- `frequencies` is the list of frequencies of numbers\n",
    "- function returns the root node of the tree"
   ]
  },
  {
   "cell_type": "code",
   "execution_count": 18,
   "id": "cd7a8310",
   "metadata": {},
   "outputs": [],
   "source": [
    "def buildTree(frequencies):\n",
    "    \n",
    "    nodes = createNodes(frequencies)\n",
    "    \n",
    "    # While the nodes are not on their proper places\n",
    "    while len(nodes) > 1:\n",
    "\n",
    "        left, right = getRarestNodes(nodes)\n",
    "\n",
    "        # Assign code to the nodes\n",
    "        left = setCode(left, 0)\n",
    "        right = setCode(right, 1)\n",
    "\n",
    "        # Create the parent node for the nodes with the least frequencies\n",
    "        node = createNode(\n",
    "            left, \n",
    "            right, \n",
    "            getNumber(left) + getNumber(right), # Numbers have the role of alphabet sybmols, so they are strings \n",
    "            getFrequency(left) + getFrequency(right) # Sum of the both frequencies\n",
    "        )\n",
    "\n",
    "        # Nodes are copied to the proper place, so remove the old ones\n",
    "        nodes.remove(left)\n",
    "        nodes.remove(right)\n",
    "        \n",
    "        # Append the newly created node to the node array\n",
    "        nodes.append(node)\n",
    "        \n",
    "    # Return the root node    \n",
    "    return nodes[0]"
   ]
  },
  {
   "cell_type": "markdown",
   "id": "7d51205e",
   "metadata": {},
   "source": [
    "## Function to read the Huffman tree and create a dictionary from it\n",
    "\n",
    "- the function uses recursion to read the tree\n",
    "- `node` is the root node\n",
    "- `code_prefix` is already retrieved code (when the function calls itself)\n",
    "- `nodes` is a list of already retrieved nodes to build the dictionary\n",
    "- function returns the dictionary or it's fragment"
   ]
  },
  {
   "cell_type": "code",
   "execution_count": 19,
   "id": "4607b077",
   "metadata": {},
   "outputs": [],
   "source": [
    "def getDictionary(node, code_prefix = \"\", nodes = None):\n",
    "     \n",
    "    previous_nodes = nodes\n",
    "    \n",
    "    # This is typically true when calling the function from outside\n",
    "    if (nodes == None):\n",
    "        nodes = []\n",
    "    \n",
    "    # Merge new code with the previous part\n",
    "    code = code_prefix + str(getCode(node))\n",
    "    \n",
    "    left_node = getLeft(node)\n",
    "    right_node = getRight(node)\n",
    "    \n",
    "    # If left node exists\n",
    "    if(left_node):\n",
    "        \n",
    "        # Get what is on the left and append it to the code\n",
    "        left_nodes = getDictionary(left_node, code, nodes)\n",
    "        \n",
    "        if (left_nodes):\n",
    "            nodes.append(left_nodes)\n",
    "\n",
    "    # If right node exists\n",
    "    if(right_node):\n",
    "        \n",
    "        # Get what is on the right and append it to the code\n",
    "        right_nodes = getDictionary(right_node, code, nodes)\n",
    "        \n",
    "        if (right_nodes):\n",
    "            nodes.append(right_nodes)\n",
    "            \n",
    "    # If there are no prevous nodes and the dictionary is done        \n",
    "    if (previous_nodes == None):\n",
    "        return dict(np.array(\n",
    "                sorted(nodes, key = lambda n: int(n[0]))\n",
    "        ))\n",
    "    \n",
    "    # If this node has no children\n",
    "    if(not left_node and not right_node):\n",
    "        return [getNumber(node), code]\n",
    "            "
   ]
  },
  {
   "cell_type": "markdown",
   "id": "5b7e28c8",
   "metadata": {},
   "source": [
    "## Function to get the binary from the color layer\n",
    "\n",
    "- the function translates the color values to binary according to the dictionary from Huffman tree\n",
    "- after that, the array is joined to a string, packed to chunks of the size 8, translated into decimal integers and the result is returned\n",
    "- `layer` is the color layer\n",
    "- `frequencies` is the list of frequencies"
   ]
  },
  {
   "cell_type": "code",
   "execution_count": 20,
   "id": "5b507e6f",
   "metadata": {},
   "outputs": [],
   "source": [
    "def layerToBinary(layer, frequencies):\n",
    "    \n",
    "    # Build the Huffman tree and get the dictionary from it\n",
    "    tree = buildTree(frequencies)\n",
    "    dictionary = getDictionary(tree)\n",
    "    \n",
    "    # Translate using the dictionary, join to the string, pack to the chunks, translate to decimal\n",
    "    return np.packbits(np.array(list(\"\".join(\n",
    "        np.vectorize(dictionary.get)(layer.astype(str))\n",
    "        .flatten()\n",
    "        .tolist()\n",
    "    ))).astype(int))"
   ]
  },
  {
   "cell_type": "markdown",
   "id": "5f3ce57f",
   "metadata": {},
   "source": [
    "## Function to save binary to a file\n",
    "\n",
    "- `name` is the file name\n",
    "- `binary` is the array of the values to save"
   ]
  },
  {
   "cell_type": "code",
   "execution_count": 21,
   "id": "0f8db422",
   "metadata": {},
   "outputs": [],
   "source": [
    "def saveCompressed(name, binary):\n",
    "    \n",
    "    # Data is saved as a .small file\n",
    "    file = open(name + \".small\", \"wb\")\n",
    "    file.write(bytearray(binary))\n",
    "    file.close()"
   ]
  },
  {
   "cell_type": "markdown",
   "id": "05ed0660",
   "metadata": {},
   "source": [
    "## Function to save a recipe to a file\n",
    "\n",
    "- recipe contains important information to decompress the file\n",
    "- `frequencies` is the list of frequencies\n",
    "- `width` of the original image\n",
    "- `height` of the original image\n",
    "- `red_regr_coefficient` is a number for multiplying values of the red layer to get the blue one\n",
    "- `green_regr_coefficient` is a number for multiplying values of the green layer to get the blue one\n",
    "- `regr_intercept` is a number to add after the multiplication to get the blue layer values"
   ]
  },
  {
   "cell_type": "code",
   "execution_count": 22,
   "id": "3b96682f",
   "metadata": {},
   "outputs": [],
   "source": [
    "def saveRecipe(frequencies, width, height, red_regr_coefficient, green_regr_coefficient, regr_intercept):\n",
    "    \n",
    "    recipe = np.array([\n",
    "        [\"fq\", frequencies],\n",
    "        [\"w\", width],\n",
    "        [\"h\", height],\n",
    "        [\"rc\", red_regr_coefficient],\n",
    "        [\"gc\", green_regr_coefficient],\n",
    "        [\"ic\", regr_intercept]\n",
    "    ], dtype = object)\n",
    "\n",
    "    # The recipe is saved as a .small.npy file\n",
    "    np.save(IMAGE + \".small\", recipe)"
   ]
  },
  {
   "cell_type": "markdown",
   "id": "363fa275",
   "metadata": {},
   "source": [
    "## Function to load the compressed file and the recipe\n",
    "\n",
    "- `name` is the file name\n",
    "- function returns binary and the recipe array"
   ]
  },
  {
   "cell_type": "code",
   "execution_count": 23,
   "id": "640f5c9e",
   "metadata": {},
   "outputs": [],
   "source": [
    "def loadCompressed(name):\n",
    "    \n",
    "    recipe = dict(np.load(IMAGE + \".npy\", allow_pickle = True))\n",
    "    \n",
    "    img_small = open(IMAGE, \"rb\")\n",
    "    \n",
    "    # Get binary from the compressed file\n",
    "    binary = np.unpackbits(np.frombuffer(bytearray(img_small.read()), dtype=np.uint8))\n",
    "    \n",
    "    return [binary, recipe]"
   ]
  },
  {
   "cell_type": "markdown",
   "id": "7c7aba08",
   "metadata": {},
   "source": [
    "## Function to translate binary accoring to the dictionary\n",
    "\n",
    "- `binary` is the array of bits\n",
    "- `dictionary` for the translation"
   ]
  },
  {
   "cell_type": "code",
   "execution_count": 24,
   "id": "f068fd5c",
   "metadata": {},
   "outputs": [],
   "source": [
    "def translateBinary(binary, dictionary):\n",
    "    \n",
    "    buffer = \"\"\n",
    "    layer = []\n",
    "\n",
    "    for i in binary:\n",
    "        buffer += str(i)\n",
    "\n",
    "        # If the code exists in the dictionary\n",
    "        if buffer in dictionary:\n",
    "            layer.append(dictionary[buffer])\n",
    "            buffer = \"\"\n",
    "            \n",
    "    return layer"
   ]
  },
  {
   "cell_type": "markdown",
   "id": "e38bb6a4",
   "metadata": {},
   "source": [
    "## Function to replace zeros by the previous value\n",
    "\n",
    "- `layer` is the color layer\n",
    "- `recipe` is the recipe array for decompression\n",
    "- function returns the modified layer"
   ]
  },
  {
   "cell_type": "code",
   "execution_count": 25,
   "id": "e5cd40d8",
   "metadata": {},
   "outputs": [],
   "source": [
    "def forwardFillLayer(layer, recipe):\n",
    "    \n",
    "    # Replace zeros by the previous value (median)\n",
    "    replaced = pd.DataFrame(np.array(layer)).replace(to_replace = \"0\", method = \"ffill\")\n",
    "\n",
    "    # Reshape the array accoring to the image width and height\n",
    "    return np.array(replaced).flatten().astype(int).reshape(recipe[\"h\"], recipe[\"w\"])"
   ]
  },
  {
   "cell_type": "markdown",
   "id": "859ac804",
   "metadata": {},
   "source": [
    "## Compression"
   ]
  },
  {
   "cell_type": "code",
   "execution_count": 27,
   "id": "4dae64a8",
   "metadata": {
    "scrolled": true
   },
   "outputs": [
    {
     "name": "stdout",
     "output_type": "stream",
     "text": [
      "Uncompressed size: 786.432 kilobytes\n",
      "Compressed size: 184.769 kilobytes (23.49 %)\n"
     ]
    }
   ],
   "source": [
    "# ---------------- SETTINGS ----------------\n",
    "\n",
    "# Image to compress\n",
    "IMAGE = \"test_images/lenna.png\"\n",
    "\n",
    "# Value which determining maximal difference of the layer values to be considered as the same\n",
    "# High value means poor quality, but small size of the compressed file and vice versa\n",
    "MAX_ERROR = 10\n",
    "\n",
    "# ------------------------------------------\n",
    "\n",
    "# Get the image and split into layers\n",
    "img = np.array(pimg.open(IMAGE))\n",
    "red = img[:,:,0]\n",
    "green = img[:,:,1]\n",
    "blue = img[:,:,2]\n",
    "\n",
    "# Get the regression coefficients and the intercept\n",
    "red_cf, green_cf, intercept = colorRegression(red, green, blue)\n",
    "\n",
    "# Replace similar values and get the frequency arrays\n",
    "red_med, red_freq = medianize(red, MAX_ERROR, 0)\n",
    "green_med, green_freq = medianize(green, MAX_ERROR, 0)\n",
    "\n",
    "# Compress the layers using the Huffman algorithm\n",
    "binary = layerToBinary(\n",
    "    np.array([red_med, green_med]),\n",
    "    red_freq + green_freq\n",
    ")\n",
    "\n",
    "saveCompressed(IMAGE, binary)\n",
    "saveRecipe(red_freq + green_freq, len(red[0]), len(red), red_cf, green_cf, intercept)\n",
    "\n",
    "# Count sizes and its ratio\n",
    "uncomp_size = (len(red) * len(red[0]) * 3) / 1000\n",
    "comp_size = len(binary) / 1000\n",
    "ratio = round((comp_size / uncomp_size) * 100, 2)\n",
    "\n",
    "print(\"Uncompressed size: \" + str(uncomp_size) + \" kilobytes\")\n",
    "print(\"Compressed size: \" + str(comp_size) + \" kilobytes (\" + str(ratio) + \" %)\")"
   ]
  },
  {
   "cell_type": "markdown",
   "id": "13ff0dfc",
   "metadata": {},
   "source": [
    "## Decompression"
   ]
  },
  {
   "cell_type": "code",
   "execution_count": 29,
   "id": "1f62e415",
   "metadata": {},
   "outputs": [
    {
     "ename": "FileNotFoundError",
     "evalue": "[Errno 2] No such file or directory: 'test/images_lenna.png.small.npy'",
     "output_type": "error",
     "traceback": [
      "\u001b[0;31m---------------------------------------------------------------------------\u001b[0m",
      "\u001b[0;31mFileNotFoundError\u001b[0m                         Traceback (most recent call last)",
      "Input \u001b[0;32mIn [29]\u001b[0m, in \u001b[0;36m<module>\u001b[0;34m\u001b[0m\n\u001b[1;32m      4\u001b[0m IMAGE \u001b[38;5;241m=\u001b[39m \u001b[38;5;124m\"\u001b[39m\u001b[38;5;124mtest/images_lenna.png.small\u001b[39m\u001b[38;5;124m\"\u001b[39m\n\u001b[1;32m      6\u001b[0m \u001b[38;5;66;03m# ------------------------------------------\u001b[39;00m\n\u001b[0;32m----> 8\u001b[0m binary, recipe \u001b[38;5;241m=\u001b[39m \u001b[43mloadCompressed\u001b[49m\u001b[43m(\u001b[49m\u001b[43mIMAGE\u001b[49m\u001b[43m)\u001b[49m\n\u001b[1;32m     10\u001b[0m tree \u001b[38;5;241m=\u001b[39m buildTree(recipe[\u001b[38;5;124m\"\u001b[39m\u001b[38;5;124mfq\u001b[39m\u001b[38;5;124m\"\u001b[39m])\n\u001b[1;32m     11\u001b[0m dictionary \u001b[38;5;241m=\u001b[39m getDictionary(tree)\n",
      "Input \u001b[0;32mIn [23]\u001b[0m, in \u001b[0;36mloadCompressed\u001b[0;34m(name)\u001b[0m\n\u001b[1;32m      1\u001b[0m \u001b[38;5;28;01mdef\u001b[39;00m \u001b[38;5;21mloadCompressed\u001b[39m(name):\n\u001b[0;32m----> 3\u001b[0m     recipe \u001b[38;5;241m=\u001b[39m \u001b[38;5;28mdict\u001b[39m(\u001b[43mnp\u001b[49m\u001b[38;5;241;43m.\u001b[39;49m\u001b[43mload\u001b[49m\u001b[43m(\u001b[49m\u001b[43mIMAGE\u001b[49m\u001b[43m \u001b[49m\u001b[38;5;241;43m+\u001b[39;49m\u001b[43m \u001b[49m\u001b[38;5;124;43m\"\u001b[39;49m\u001b[38;5;124;43m.npy\u001b[39;49m\u001b[38;5;124;43m\"\u001b[39;49m\u001b[43m,\u001b[49m\u001b[43m \u001b[49m\u001b[43mallow_pickle\u001b[49m\u001b[43m \u001b[49m\u001b[38;5;241;43m=\u001b[39;49m\u001b[43m \u001b[49m\u001b[38;5;28;43;01mTrue\u001b[39;49;00m\u001b[43m)\u001b[49m)\n\u001b[1;32m      5\u001b[0m     img_small \u001b[38;5;241m=\u001b[39m \u001b[38;5;28mopen\u001b[39m(IMAGE, \u001b[38;5;124m\"\u001b[39m\u001b[38;5;124mrb\u001b[39m\u001b[38;5;124m\"\u001b[39m)\n\u001b[1;32m      7\u001b[0m     \u001b[38;5;66;03m# Get binary from the compressed file\u001b[39;00m\n",
      "File \u001b[0;32m~/.local/lib/python3.8/site-packages/numpy/lib/npyio.py:407\u001b[0m, in \u001b[0;36mload\u001b[0;34m(file, mmap_mode, allow_pickle, fix_imports, encoding)\u001b[0m\n\u001b[1;32m    405\u001b[0m     own_fid \u001b[38;5;241m=\u001b[39m \u001b[38;5;28;01mFalse\u001b[39;00m\n\u001b[1;32m    406\u001b[0m \u001b[38;5;28;01melse\u001b[39;00m:\n\u001b[0;32m--> 407\u001b[0m     fid \u001b[38;5;241m=\u001b[39m stack\u001b[38;5;241m.\u001b[39menter_context(\u001b[38;5;28;43mopen\u001b[39;49m\u001b[43m(\u001b[49m\u001b[43mos_fspath\u001b[49m\u001b[43m(\u001b[49m\u001b[43mfile\u001b[49m\u001b[43m)\u001b[49m\u001b[43m,\u001b[49m\u001b[43m \u001b[49m\u001b[38;5;124;43m\"\u001b[39;49m\u001b[38;5;124;43mrb\u001b[39;49m\u001b[38;5;124;43m\"\u001b[39;49m\u001b[43m)\u001b[49m)\n\u001b[1;32m    408\u001b[0m     own_fid \u001b[38;5;241m=\u001b[39m \u001b[38;5;28;01mTrue\u001b[39;00m\n\u001b[1;32m    410\u001b[0m \u001b[38;5;66;03m# Code to distinguish from NumPy binary files and pickles.\u001b[39;00m\n",
      "\u001b[0;31mFileNotFoundError\u001b[0m: [Errno 2] No such file or directory: 'test/images_lenna.png.small.npy'"
     ]
    }
   ],
   "source": [
    "# ---------------- SETTINGS ----------------\n",
    "\n",
    "# Image to decompress\n",
    "IMAGE = \"test/images_lenna.png.small\"\n",
    "\n",
    "# ------------------------------------------\n",
    "\n",
    "binary, recipe = loadCompressed(IMAGE)\n",
    "\n",
    "tree = buildTree(recipe[\"fq\"])\n",
    "dictionary = getDictionary(tree)\n",
    "\n",
    "layer = translateBinary(\n",
    "    binary,\n",
    "    dict(zip(dictionary.values(), dictionary.keys())) # Reversed dictionary\n",
    ")\n",
    "\n",
    "image_size = recipe[\"w\"] * recipe[\"h\"]\n",
    "\n",
    "red = forwardFillLayer(layer[: image_size], recipe)\n",
    "green = forwardFillLayer(layer[image_size : 2 * image_size], recipe)\n",
    "\n",
    "blue_regr = computeLayer(red, green, recipe[\"rc\"], recipe[\"gc\"], recipe[\"ic\"])\n",
    "\n",
    "buildImage(red, green, blue_regr, False)"
   ]
  },
  {
   "cell_type": "code",
   "execution_count": null,
   "id": "ad00324a-9471-451c-9dcd-bf8987dd762b",
   "metadata": {},
   "outputs": [],
   "source": []
  }
 ],
 "metadata": {
  "kernelspec": {
   "display_name": "Python 3 (ipykernel)",
   "language": "python",
   "name": "python3"
  },
  "language_info": {
   "codemirror_mode": {
    "name": "ipython",
    "version": 3
   },
   "file_extension": ".py",
   "mimetype": "text/x-python",
   "name": "python",
   "nbconvert_exporter": "python",
   "pygments_lexer": "ipython3",
   "version": "3.8.10"
  }
 },
 "nbformat": 4,
 "nbformat_minor": 5
}
